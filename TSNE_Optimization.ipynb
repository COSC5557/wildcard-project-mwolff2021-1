{
  "cells": [
    {
      "cell_type": "code",
      "execution_count": 3,
      "metadata": {
        "colab": {
          "base_uri": "https://localhost:8080/"
        },
        "id": "iW0ZpU36GM8S",
        "outputId": "a91ed085-29db-4dbf-cf26-8fda57574ea5"
      },
      "outputs": [
        {
          "output_type": "stream",
          "name": "stdout",
          "text": [
            "Requirement already satisfied: scikit-learn in /usr/local/lib/python3.10/dist-packages (1.4.2)\n",
            "Requirement already satisfied: numpy>=1.19.5 in /usr/local/lib/python3.10/dist-packages (from scikit-learn) (1.25.2)\n",
            "Requirement already satisfied: scipy>=1.6.0 in /usr/local/lib/python3.10/dist-packages (from scikit-learn) (1.11.4)\n",
            "Requirement already satisfied: joblib>=1.2.0 in /usr/local/lib/python3.10/dist-packages (from scikit-learn) (1.4.2)\n",
            "Requirement already satisfied: threadpoolctl>=2.0.0 in /usr/local/lib/python3.10/dist-packages (from scikit-learn) (3.5.0)\n",
            "Requirement already satisfied: pandas in /usr/local/lib/python3.10/dist-packages (2.0.3)\n",
            "Requirement already satisfied: python-dateutil>=2.8.2 in /usr/local/lib/python3.10/dist-packages (from pandas) (2.8.2)\n",
            "Requirement already satisfied: pytz>=2020.1 in /usr/local/lib/python3.10/dist-packages (from pandas) (2023.4)\n",
            "Requirement already satisfied: tzdata>=2022.1 in /usr/local/lib/python3.10/dist-packages (from pandas) (2024.1)\n",
            "Requirement already satisfied: numpy>=1.21.0 in /usr/local/lib/python3.10/dist-packages (from pandas) (1.25.2)\n",
            "Requirement already satisfied: six>=1.5 in /usr/local/lib/python3.10/dist-packages (from python-dateutil>=2.8.2->pandas) (1.16.0)\n",
            "Collecting scikit-optimize\n",
            "  Downloading scikit_optimize-0.10.1-py2.py3-none-any.whl (107 kB)\n",
            "\u001b[2K     \u001b[90m━━━━━━━━━━━━━━━━━━━━━━━━━━━━━━━━━━━━━━━━\u001b[0m \u001b[32m107.7/107.7 kB\u001b[0m \u001b[31m2.8 MB/s\u001b[0m eta \u001b[36m0:00:00\u001b[0m\n",
            "\u001b[?25hRequirement already satisfied: joblib>=0.11 in /usr/local/lib/python3.10/dist-packages (from scikit-optimize) (1.4.2)\n",
            "Collecting pyaml>=16.9 (from scikit-optimize)\n",
            "  Downloading pyaml-24.4.0-py3-none-any.whl (24 kB)\n",
            "Requirement already satisfied: numpy>=1.20.3 in /usr/local/lib/python3.10/dist-packages (from scikit-optimize) (1.25.2)\n",
            "Requirement already satisfied: scipy>=1.1.0 in /usr/local/lib/python3.10/dist-packages (from scikit-optimize) (1.11.4)\n",
            "Requirement already satisfied: scikit-learn>=1.0.0 in /usr/local/lib/python3.10/dist-packages (from scikit-optimize) (1.4.2)\n",
            "Requirement already satisfied: packaging>=21.3 in /usr/local/lib/python3.10/dist-packages (from scikit-optimize) (24.0)\n",
            "Requirement already satisfied: PyYAML in /usr/local/lib/python3.10/dist-packages (from pyaml>=16.9->scikit-optimize) (6.0.1)\n",
            "Requirement already satisfied: threadpoolctl>=2.0.0 in /usr/local/lib/python3.10/dist-packages (from scikit-learn>=1.0.0->scikit-optimize) (3.5.0)\n",
            "Installing collected packages: pyaml, scikit-optimize\n",
            "Successfully installed pyaml-24.4.0 scikit-optimize-0.10.1\n"
          ]
        }
      ],
      "source": [
        "#https://scikit-optimize.github.io/stable/auto_examples/sklearn-gridsearchcv-replacement.html#sphx-glr-auto-examples-sklearn-gridsearchcv-replacement-py\n",
        "#https://skopt.readthedocs.io/en/stable/install.html\n",
        "#https://tex.stackexchange.com/questions/480652/prevent-table-from-going-off-page-how\n",
        "#install and import packages\n",
        "!pip install --upgrade scikit-learn\n",
        "!pip install pandas\n",
        "import pandas as pd\n",
        "import numpy as np\n",
        "import matplotlib.pyplot as plt\n",
        "import sklearn\n",
        "\n",
        "#suppress warnings about class imbalances\n",
        "import warnings\n",
        "warnings.filterwarnings(\"ignore\")\n",
        "\n",
        "#import models, packages\n",
        "from sklearn import linear_model, ensemble, manifold\n",
        "from sklearn.model_selection import cross_val_score\n",
        "from sklearn import model_selection\n",
        "import numpy\n",
        "\n",
        "!pip install scikit-optimize\n",
        "import skopt\n",
        "from skopt.space import Real, Categorical, Integer\n",
        "from skopt import BayesSearchCV\n",
        "\n",
        "#import grid search and cross_validate\n",
        "from sklearn.model_selection import GridSearchCV\n",
        "from sklearn.model_selection import cross_validate"
      ]
    },
    {
      "cell_type": "code",
      "execution_count": 4,
      "metadata": {
        "id": "Omx_JIMtGXcF"
      },
      "outputs": [],
      "source": [
        "#read and display data\n",
        "data = pd.read_csv(\"/content/winequality-red.csv\", sep = \";\")"
      ]
    },
    {
      "cell_type": "code",
      "execution_count": 5,
      "metadata": {
        "id": "BWn1T2ncGnV1"
      },
      "outputs": [],
      "source": [
        "#split into features/target\n",
        "x = data.drop(columns = ['quality'])\n",
        "#attemptd normalization at one point but this step yielded lower performance\n",
        "#x_norm = sklearn.preprocessing.normalize(x, axis=0)\n",
        "y = data['quality']"
      ]
    },
    {
      "cell_type": "code",
      "execution_count": 14,
      "metadata": {
        "id": "ved5B7UsSmYl"
      },
      "outputs": [],
      "source": [
        "from sklearn.metrics import make_scorer\n",
        "#kl_div = make_scorer(sklearn.manifold.TSNE().fit(x).kl_divergence_)\n",
        "#sne.fit_transform(S_points)\n",
        "from scipy.special import rel_entr\n",
        "\n",
        "#from sklearn.metrics.scorer import make_scorer\n",
        "\n",
        "def kl_div_loss(x1, x2):\n",
        "    return sum(rel_entr(x1, x2))\n",
        "\n",
        "kl_div = make_scorer(kl_div_loss, greater_is_better=False)\n",
        "\n",
        "#calculate (P || Q)\n",
        "#kl_div = make_scorer(sum(rel_entr(y, y_pred)))\n",
        "\n",
        "tsne = BayesSearchCV(sklearn.manifold.TSNE(),\n",
        "    {\n",
        "    \"n_components\" : Integer(1, 4, prior  = 'log-uniform'),\n",
        "    \"perplexity\" : Real(5.0, 50.0, prior = 'log-uniform'),\n",
        "    \"early_exaggeration\" : Real(1.0, 25.0, prior = 'log-uniform'),\n",
        "    \"n_iter\" : Integer(250, 10000, prior = 'log-uniform'),\n",
        "    },\n",
        "                   scoring = kl_div\n",
        ")\n"
      ]
    },
    {
      "cell_type": "code",
      "execution_count": null,
      "metadata": {
        "id": "IkAMCbSvsmeX"
      },
      "outputs": [],
      "source": [
        "_ = tsne.fit(x)"
      ]
    }
  ],
  "metadata": {
    "colab": {
      "provenance": []
    },
    "kernelspec": {
      "display_name": "Python 3",
      "name": "python3"
    },
    "language_info": {
      "name": "python"
    }
  },
  "nbformat": 4,
  "nbformat_minor": 0
}